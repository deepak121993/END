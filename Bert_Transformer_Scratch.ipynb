{
  "nbformat": 4,
  "nbformat_minor": 0,
  "metadata": {
    "colab": {
      "name": "Bert-Transformer-Scratch",
      "provenance": [],
      "collapsed_sections": [],
      "authorship_tag": "ABX9TyMSpLOgJyqZSPGjNhZGra6v",
      "include_colab_link": true
    },
    "kernelspec": {
      "display_name": "Python 3",
      "name": "python3"
    },
    "language_info": {
      "name": "python"
    }
  },
  "cells": [
    {
      "cell_type": "markdown",
      "metadata": {
        "id": "view-in-github",
        "colab_type": "text"
      },
      "source": [
        "<a href=\"https://colab.research.google.com/github/deepak121993/END/blob/main/Bert_Transformer_Scratch.ipynb\" target=\"_parent\"><img src=\"https://colab.research.google.com/assets/colab-badge.svg\" alt=\"Open In Colab\"/></a>"
      ]
    },
    {
      "cell_type": "markdown",
      "metadata": {
        "id": "Cs4bJG8wPBnc"
      },
      "source": [
        "![](https://raw.githubusercontent.com/bentrevett/pytorch-seq2seq/9479fcb532214ad26fd4bda9fcf081a05e1aaf4e/assets/transformer1.png)\n"
      ]
    },
    {
      "cell_type": "code",
      "metadata": {
        "id": "IWUm0KZUOgD-"
      },
      "source": [
        "import torch\n",
        "import torch.nn as nn\n",
        "import torch.optim as optim\n",
        "\n",
        "import torchtext\n",
        "from torchtext.legacy.datasets import Multi30k\n",
        "from torchtext.legacy.data import Field, BucketIterator\n",
        "\n",
        "import matplotlib.pyplot as plt\n",
        "import matplotlib.ticker as ticker\n",
        "\n",
        "import spacy\n",
        "import numpy as np\n",
        "\n",
        "import random\n",
        "import math\n",
        "import time\n",
        "\n",
        "from collections import Counter\n",
        "import json\n",
        "import torch\n",
        "import torch.nn as nn\n",
        "from torch.utils.data import Dataset\n",
        "import torch.utils.data\n",
        "import math\n",
        "import torch.nn.functional as F"
      ],
      "execution_count": 1,
      "outputs": []
    },
    {
      "cell_type": "code",
      "metadata": {
        "id": "LnDhZht2OpwM"
      },
      "source": [
        "SEED = 1234\n",
        "\n",
        "random.seed(SEED)\n",
        "np.random.seed(SEED)\n",
        "torch.manual_seed(SEED)\n",
        "torch.cuda.manual_seed(SEED)\n",
        "torch.backends.cudnn.deterministic = True"
      ],
      "execution_count": 2,
      "outputs": []
    },
    {
      "cell_type": "code",
      "metadata": {
        "id": "vFw6fsN8PGNa",
        "colab": {
          "base_uri": "https://localhost:8080/"
        },
        "outputId": "0410e4f7-6a11-4193-d640-8a6f6b8318b0"
      },
      "source": [
        "!python -m spacy download en\n",
        "!python -m spacy download de"
      ],
      "execution_count": 44,
      "outputs": [
        {
          "output_type": "stream",
          "text": [
            "Requirement already satisfied: en_core_web_sm==2.2.5 from https://github.com/explosion/spacy-models/releases/download/en_core_web_sm-2.2.5/en_core_web_sm-2.2.5.tar.gz#egg=en_core_web_sm==2.2.5 in /usr/local/lib/python3.7/dist-packages (2.2.5)\n",
            "Requirement already satisfied: spacy>=2.2.2 in /usr/local/lib/python3.7/dist-packages (from en_core_web_sm==2.2.5) (2.2.4)\n",
            "Requirement already satisfied: blis<0.5.0,>=0.4.0 in /usr/local/lib/python3.7/dist-packages (from spacy>=2.2.2->en_core_web_sm==2.2.5) (0.4.1)\n",
            "Requirement already satisfied: cymem<2.1.0,>=2.0.2 in /usr/local/lib/python3.7/dist-packages (from spacy>=2.2.2->en_core_web_sm==2.2.5) (2.0.5)\n",
            "Requirement already satisfied: plac<1.2.0,>=0.9.6 in /usr/local/lib/python3.7/dist-packages (from spacy>=2.2.2->en_core_web_sm==2.2.5) (1.1.3)\n",
            "Requirement already satisfied: requests<3.0.0,>=2.13.0 in /usr/local/lib/python3.7/dist-packages (from spacy>=2.2.2->en_core_web_sm==2.2.5) (2.23.0)\n",
            "Requirement already satisfied: wasabi<1.1.0,>=0.4.0 in /usr/local/lib/python3.7/dist-packages (from spacy>=2.2.2->en_core_web_sm==2.2.5) (0.8.2)\n",
            "Requirement already satisfied: srsly<1.1.0,>=1.0.2 in /usr/local/lib/python3.7/dist-packages (from spacy>=2.2.2->en_core_web_sm==2.2.5) (1.0.5)\n",
            "Requirement already satisfied: preshed<3.1.0,>=3.0.2 in /usr/local/lib/python3.7/dist-packages (from spacy>=2.2.2->en_core_web_sm==2.2.5) (3.0.5)\n",
            "Requirement already satisfied: thinc==7.4.0 in /usr/local/lib/python3.7/dist-packages (from spacy>=2.2.2->en_core_web_sm==2.2.5) (7.4.0)\n",
            "Requirement already satisfied: murmurhash<1.1.0,>=0.28.0 in /usr/local/lib/python3.7/dist-packages (from spacy>=2.2.2->en_core_web_sm==2.2.5) (1.0.5)\n",
            "Requirement already satisfied: numpy>=1.15.0 in /usr/local/lib/python3.7/dist-packages (from spacy>=2.2.2->en_core_web_sm==2.2.5) (1.19.5)\n",
            "Requirement already satisfied: catalogue<1.1.0,>=0.0.7 in /usr/local/lib/python3.7/dist-packages (from spacy>=2.2.2->en_core_web_sm==2.2.5) (1.0.0)\n",
            "Requirement already satisfied: tqdm<5.0.0,>=4.38.0 in /usr/local/lib/python3.7/dist-packages (from spacy>=2.2.2->en_core_web_sm==2.2.5) (4.41.1)\n",
            "Requirement already satisfied: setuptools in /usr/local/lib/python3.7/dist-packages (from spacy>=2.2.2->en_core_web_sm==2.2.5) (56.1.0)\n",
            "Requirement already satisfied: idna<3,>=2.5 in /usr/local/lib/python3.7/dist-packages (from requests<3.0.0,>=2.13.0->spacy>=2.2.2->en_core_web_sm==2.2.5) (2.10)\n",
            "Requirement already satisfied: urllib3!=1.25.0,!=1.25.1,<1.26,>=1.21.1 in /usr/local/lib/python3.7/dist-packages (from requests<3.0.0,>=2.13.0->spacy>=2.2.2->en_core_web_sm==2.2.5) (1.24.3)\n",
            "Requirement already satisfied: chardet<4,>=3.0.2 in /usr/local/lib/python3.7/dist-packages (from requests<3.0.0,>=2.13.0->spacy>=2.2.2->en_core_web_sm==2.2.5) (3.0.4)\n",
            "Requirement already satisfied: certifi>=2017.4.17 in /usr/local/lib/python3.7/dist-packages (from requests<3.0.0,>=2.13.0->spacy>=2.2.2->en_core_web_sm==2.2.5) (2020.12.5)\n",
            "Requirement already satisfied: importlib-metadata>=0.20; python_version < \"3.8\" in /usr/local/lib/python3.7/dist-packages (from catalogue<1.1.0,>=0.0.7->spacy>=2.2.2->en_core_web_sm==2.2.5) (3.10.1)\n",
            "Requirement already satisfied: zipp>=0.5 in /usr/local/lib/python3.7/dist-packages (from importlib-metadata>=0.20; python_version < \"3.8\"->catalogue<1.1.0,>=0.0.7->spacy>=2.2.2->en_core_web_sm==2.2.5) (3.4.1)\n",
            "Requirement already satisfied: typing-extensions>=3.6.4; python_version < \"3.8\" in /usr/local/lib/python3.7/dist-packages (from importlib-metadata>=0.20; python_version < \"3.8\"->catalogue<1.1.0,>=0.0.7->spacy>=2.2.2->en_core_web_sm==2.2.5) (3.7.4.3)\n",
            "\u001b[38;5;2m✔ Download and installation successful\u001b[0m\n",
            "You can now load the model via spacy.load('en_core_web_sm')\n",
            "\u001b[38;5;2m✔ Linking successful\u001b[0m\n",
            "/usr/local/lib/python3.7/dist-packages/en_core_web_sm -->\n",
            "/usr/local/lib/python3.7/dist-packages/spacy/data/en\n",
            "You can now load the model via spacy.load('en')\n",
            "Collecting de_core_news_sm==2.2.5\n",
            "\u001b[?25l  Downloading https://github.com/explosion/spacy-models/releases/download/de_core_news_sm-2.2.5/de_core_news_sm-2.2.5.tar.gz (14.9MB)\n",
            "\u001b[K     |████████████████████████████████| 14.9MB 11.5MB/s \n",
            "\u001b[?25hRequirement already satisfied: spacy>=2.2.2 in /usr/local/lib/python3.7/dist-packages (from de_core_news_sm==2.2.5) (2.2.4)\n",
            "Requirement already satisfied: thinc==7.4.0 in /usr/local/lib/python3.7/dist-packages (from spacy>=2.2.2->de_core_news_sm==2.2.5) (7.4.0)\n",
            "Requirement already satisfied: srsly<1.1.0,>=1.0.2 in /usr/local/lib/python3.7/dist-packages (from spacy>=2.2.2->de_core_news_sm==2.2.5) (1.0.5)\n",
            "Requirement already satisfied: murmurhash<1.1.0,>=0.28.0 in /usr/local/lib/python3.7/dist-packages (from spacy>=2.2.2->de_core_news_sm==2.2.5) (1.0.5)\n",
            "Requirement already satisfied: catalogue<1.1.0,>=0.0.7 in /usr/local/lib/python3.7/dist-packages (from spacy>=2.2.2->de_core_news_sm==2.2.5) (1.0.0)\n",
            "Requirement already satisfied: preshed<3.1.0,>=3.0.2 in /usr/local/lib/python3.7/dist-packages (from spacy>=2.2.2->de_core_news_sm==2.2.5) (3.0.5)\n",
            "Requirement already satisfied: requests<3.0.0,>=2.13.0 in /usr/local/lib/python3.7/dist-packages (from spacy>=2.2.2->de_core_news_sm==2.2.5) (2.23.0)\n",
            "Requirement already satisfied: cymem<2.1.0,>=2.0.2 in /usr/local/lib/python3.7/dist-packages (from spacy>=2.2.2->de_core_news_sm==2.2.5) (2.0.5)\n",
            "Requirement already satisfied: setuptools in /usr/local/lib/python3.7/dist-packages (from spacy>=2.2.2->de_core_news_sm==2.2.5) (56.1.0)\n",
            "Requirement already satisfied: numpy>=1.15.0 in /usr/local/lib/python3.7/dist-packages (from spacy>=2.2.2->de_core_news_sm==2.2.5) (1.19.5)\n",
            "Requirement already satisfied: tqdm<5.0.0,>=4.38.0 in /usr/local/lib/python3.7/dist-packages (from spacy>=2.2.2->de_core_news_sm==2.2.5) (4.41.1)\n",
            "Requirement already satisfied: blis<0.5.0,>=0.4.0 in /usr/local/lib/python3.7/dist-packages (from spacy>=2.2.2->de_core_news_sm==2.2.5) (0.4.1)\n",
            "Requirement already satisfied: plac<1.2.0,>=0.9.6 in /usr/local/lib/python3.7/dist-packages (from spacy>=2.2.2->de_core_news_sm==2.2.5) (1.1.3)\n",
            "Requirement already satisfied: wasabi<1.1.0,>=0.4.0 in /usr/local/lib/python3.7/dist-packages (from spacy>=2.2.2->de_core_news_sm==2.2.5) (0.8.2)\n",
            "Requirement already satisfied: importlib-metadata>=0.20; python_version < \"3.8\" in /usr/local/lib/python3.7/dist-packages (from catalogue<1.1.0,>=0.0.7->spacy>=2.2.2->de_core_news_sm==2.2.5) (3.10.1)\n",
            "Requirement already satisfied: idna<3,>=2.5 in /usr/local/lib/python3.7/dist-packages (from requests<3.0.0,>=2.13.0->spacy>=2.2.2->de_core_news_sm==2.2.5) (2.10)\n",
            "Requirement already satisfied: urllib3!=1.25.0,!=1.25.1,<1.26,>=1.21.1 in /usr/local/lib/python3.7/dist-packages (from requests<3.0.0,>=2.13.0->spacy>=2.2.2->de_core_news_sm==2.2.5) (1.24.3)\n",
            "Requirement already satisfied: chardet<4,>=3.0.2 in /usr/local/lib/python3.7/dist-packages (from requests<3.0.0,>=2.13.0->spacy>=2.2.2->de_core_news_sm==2.2.5) (3.0.4)\n",
            "Requirement already satisfied: certifi>=2017.4.17 in /usr/local/lib/python3.7/dist-packages (from requests<3.0.0,>=2.13.0->spacy>=2.2.2->de_core_news_sm==2.2.5) (2020.12.5)\n",
            "Requirement already satisfied: typing-extensions>=3.6.4; python_version < \"3.8\" in /usr/local/lib/python3.7/dist-packages (from importlib-metadata>=0.20; python_version < \"3.8\"->catalogue<1.1.0,>=0.0.7->spacy>=2.2.2->de_core_news_sm==2.2.5) (3.7.4.3)\n",
            "Requirement already satisfied: zipp>=0.5 in /usr/local/lib/python3.7/dist-packages (from importlib-metadata>=0.20; python_version < \"3.8\"->catalogue<1.1.0,>=0.0.7->spacy>=2.2.2->de_core_news_sm==2.2.5) (3.4.1)\n",
            "Building wheels for collected packages: de-core-news-sm\n",
            "  Building wheel for de-core-news-sm (setup.py) ... \u001b[?25l\u001b[?25hdone\n",
            "  Created wheel for de-core-news-sm: filename=de_core_news_sm-2.2.5-cp37-none-any.whl size=14907057 sha256=84fb733e7f75a2f72bc5d8958981ccc1040089c10298cfe2152b77c65e3bbd89\n",
            "  Stored in directory: /tmp/pip-ephem-wheel-cache-80v49stk/wheels/ba/3f/ed/d4aa8e45e7191b7f32db4bfad565e7da1edbf05c916ca7a1ca\n",
            "Successfully built de-core-news-sm\n",
            "Installing collected packages: de-core-news-sm\n",
            "Successfully installed de-core-news-sm-2.2.5\n",
            "\u001b[38;5;2m✔ Download and installation successful\u001b[0m\n",
            "You can now load the model via spacy.load('de_core_news_sm')\n",
            "\u001b[38;5;2m✔ Linking successful\u001b[0m\n",
            "/usr/local/lib/python3.7/dist-packages/de_core_news_sm -->\n",
            "/usr/local/lib/python3.7/dist-packages/spacy/data/de\n",
            "You can now load the model via spacy.load('de')\n"
          ],
          "name": "stdout"
        }
      ]
    },
    {
      "cell_type": "code",
      "metadata": {
        "id": "jIOfVZ1VPWh9"
      },
      "source": [
        "spacy_de = spacy.load('de')\n",
        "spacy_en = spacy.load('en')"
      ],
      "execution_count": 45,
      "outputs": []
    },
    {
      "cell_type": "code",
      "metadata": {
        "id": "kmVEMaV6PZfZ"
      },
      "source": [
        "# def tokenize_de(text):\n",
        "#     \"\"\"\n",
        "#     Tokenizes German text from a string into a list of strings\n",
        "#     \"\"\"\n",
        "#     return [tok.text for tok in spacy_de.tokenizer(text)]\n",
        "\n",
        "# def tokenize_en(text):\n",
        "#     \"\"\"\n",
        "#     Tokenizes English text from a string into a list of strings\n",
        "#     \"\"\"\n",
        "#     return [tok.text for tok in spacy_en.tokenizer(text)]"
      ],
      "execution_count": 5,
      "outputs": []
    },
    {
      "cell_type": "code",
      "metadata": {
        "id": "aICVF-4r6p8d"
      },
      "source": [
        "import pandas as pd\n",
        "import numpy as np\n",
        "\n",
        "df  =  pd.read_excel(r\"/content/scrapped_600.xlsx\")"
      ],
      "execution_count": 6,
      "outputs": []
    },
    {
      "cell_type": "code",
      "metadata": {
        "id": "T1Q7aJCuPaw4"
      },
      "source": [
        "# SRC = Field(tokenize = tokenize_en, \n",
        "#             init_token = '<sos>', \n",
        "#             eos_token = '<eos>', \n",
        "#             lower = True, \n",
        "#             batch_first = True)\n",
        "\n",
        "# TRG = Field(tokenize = tokenize_en, \n",
        "#             init_token = '<sos>', \n",
        "#             eos_token = '<eos>', \n",
        "#             lower = True, \n",
        "#             batch_first = True)\n"
      ],
      "execution_count": 7,
      "outputs": []
    },
    {
      "cell_type": "code",
      "metadata": {
        "colab": {
          "base_uri": "https://localhost:8080/",
          "height": 197
        },
        "id": "lgx0BaEzAqjv",
        "outputId": "2d76a9f2-64ee-4fc0-f2b0-a99a70685fb2"
      },
      "source": [
        "df.head()"
      ],
      "execution_count": 8,
      "outputs": [
        {
          "output_type": "execute_result",
          "data": {
            "text/html": [
              "<div>\n",
              "<style scoped>\n",
              "    .dataframe tbody tr th:only-of-type {\n",
              "        vertical-align: middle;\n",
              "    }\n",
              "\n",
              "    .dataframe tbody tr th {\n",
              "        vertical-align: top;\n",
              "    }\n",
              "\n",
              "    .dataframe thead th {\n",
              "        text-align: right;\n",
              "    }\n",
              "</style>\n",
              "<table border=\"1\" class=\"dataframe\">\n",
              "  <thead>\n",
              "    <tr style=\"text-align: right;\">\n",
              "      <th></th>\n",
              "      <th>Term</th>\n",
              "      <th>Description</th>\n",
              "      <th>KeyTakeAways</th>\n",
              "      <th>link</th>\n",
              "    </tr>\n",
              "  </thead>\n",
              "  <tbody>\n",
              "    <tr>\n",
              "      <th>0</th>\n",
              "      <td>What Is an A-B Trust?</td>\n",
              "      <td>An A-B trust is a joint trust created by a mar...</td>\n",
              "      <td>An A-B trust minimizes estate taxes by splitti...</td>\n",
              "      <td>https://www.investopedia.com/terms/a/a-b-trust...</td>\n",
              "    </tr>\n",
              "    <tr>\n",
              "      <th>1</th>\n",
              "      <td>What Are China A-Shares?</td>\n",
              "      <td>China A-shares are the stock shares of mainlan...</td>\n",
              "      <td>China A-shares are the stock shares of mainlan...</td>\n",
              "      <td>https://www.investopedia.com/terms/a/a-shares.asp</td>\n",
              "    </tr>\n",
              "    <tr>\n",
              "      <th>2</th>\n",
              "      <td>What Is AAA?</td>\n",
              "      <td>AAA is the highest possible rating that may be...</td>\n",
              "      <td>The highest possible rating that a bond may ac...</td>\n",
              "      <td>https://www.investopedia.com/terms/a/aaa.asp</td>\n",
              "    </tr>\n",
              "    <tr>\n",
              "      <th>3</th>\n",
              "      <td>What Is Average Annual Growth Rate (AAGR)?</td>\n",
              "      <td>The average annual growth rate (AAGR) is the a...</td>\n",
              "      <td>This ratio helps you figure out how much avera...</td>\n",
              "      <td>https://www.investopedia.com/terms/a/aagr.asp</td>\n",
              "    </tr>\n",
              "    <tr>\n",
              "      <th>4</th>\n",
              "      <td>What Is the Average Annual Return (AAR)?</td>\n",
              "      <td>The average annual return (AAR) is a percentag...</td>\n",
              "      <td>The average annual return (AAR) is a percentag...</td>\n",
              "      <td>https://www.investopedia.com/terms/a/aar.asp</td>\n",
              "    </tr>\n",
              "  </tbody>\n",
              "</table>\n",
              "</div>"
            ],
            "text/plain": [
              "                                         Term  ...                                               link\n",
              "0                       What Is an A-B Trust?  ...  https://www.investopedia.com/terms/a/a-b-trust...\n",
              "1                    What Are China A-Shares?  ...  https://www.investopedia.com/terms/a/a-shares.asp\n",
              "2                                What Is AAA?  ...       https://www.investopedia.com/terms/a/aaa.asp\n",
              "3  What Is Average Annual Growth Rate (AAGR)?  ...      https://www.investopedia.com/terms/a/aagr.asp\n",
              "4    What Is the Average Annual Return (AAR)?  ...       https://www.investopedia.com/terms/a/aar.asp\n",
              "\n",
              "[5 rows x 4 columns]"
            ]
          },
          "metadata": {
            "tags": []
          },
          "execution_count": 8
        }
      ]
    },
    {
      "cell_type": "code",
      "metadata": {
        "id": "aDdFrGLPPcPq"
      },
      "source": [
        "# train_data, valid_data, test_data = Multi30k.splits(exts = ('.de', '.en'), \n",
        "#                                                     fields = (SRC, TRG))\n",
        "# from torchtext import data\n",
        "\n",
        "# t_src = df['Term'].apply(lambda x : tokenize_en(x))\n",
        "# t_trg = df['Description'].apply(lambda x : tokenize_en(x))\n",
        "\n",
        "# TRG = data.Field(lower=True, tokenize=t_trg.tokenizer, init_token='<sos>', eos_token='<eos>')\n",
        "# SRC = data.Field(lower=True, tokenize=t_src.tokenizer)\n",
        "\n",
        "def remove_punc(string):\n",
        "    punctuations = '''!()[]{};:'\"\\,<>./?@#$%^&*~'''\n",
        "    no_punct = \"\"\n",
        "    for char in string:\n",
        "        if char not in punctuations:\n",
        "            no_punct = no_punct + char  # space is also a character\n",
        "    return no_punct.lower()\n",
        "\n",
        "src = list(df['Term'])\n",
        "trg = list(df['Description'])\n",
        "\n",
        "\n",
        "pairs = []\n",
        "max_len = 25\n",
        "\n",
        "for i in range(len(src)-1):\n",
        "\n",
        "  qa_pairs = []\n",
        "  p = remove_punc(src[i])\n",
        "  q = remove_punc(trg[i])\n",
        "\n",
        "  qa_pairs.append(p.split()[:max_len])\n",
        "  qa_pairs.append(q.split()[:max_len])\n",
        "  pairs.append(qa_pairs)"
      ],
      "execution_count": 9,
      "outputs": []
    },
    {
      "cell_type": "code",
      "metadata": {
        "id": "K7_osm8jPe1Z"
      },
      "source": [
        "# SRC.build_vocab(train_data, min_freq = 2)\n",
        "# TRG.build_vocab(train_data, min_freq = 2)\n",
        "\n",
        "\n",
        "######## building vocab ##########\n",
        "word_freq = Counter()\n",
        "\n",
        "for pair in pairs:\n",
        "  word_freq.update(pair[0])\n",
        "  word_freq.update(pair[1])\n",
        "\n",
        "min_word_freq = 5\n",
        "\n",
        "words = [w for w in word_freq.keys() if word_freq[w] > min_word_freq ]\n",
        "\n",
        "word_map = { k : v + 1 for v, k in enumerate(words) }\n",
        "word_map['<unk>'] = len(word_map) + 1\n",
        "word_map['<start>'] = len(word_map) + 1\n",
        "word_map['<end>'] = len(word_map) + 1\n",
        "word_map['<pad>'] = 0"
      ],
      "execution_count": 10,
      "outputs": []
    },
    {
      "cell_type": "code",
      "metadata": {
        "colab": {
          "base_uri": "https://localhost:8080/"
        },
        "id": "FOFBX2cXdFyc",
        "outputId": "5aea5724-48c9-48b1-e289-1a267b62e349"
      },
      "source": [
        "print(\"Total words are: {}\".format(len(word_map)))\n",
        "with open('WORDMAP_corpus.json', 'w') as j:\n",
        "    json.dump(word_map, j)"
      ],
      "execution_count": 11,
      "outputs": [
        {
          "output_type": "stream",
          "text": [
            "Total words are: 448\n"
          ],
          "name": "stdout"
        }
      ]
    },
    {
      "cell_type": "code",
      "metadata": {
        "colab": {
          "base_uri": "https://localhost:8080/"
        },
        "id": "mHc2FipXPg_u",
        "outputId": "9e7814e0-e5c9-4a7a-906a-978bdfa06caa"
      },
      "source": [
        "device = torch.device('cuda' if torch.cuda.is_available() else 'cpu')\n",
        "device"
      ],
      "execution_count": 12,
      "outputs": [
        {
          "output_type": "execute_result",
          "data": {
            "text/plain": [
              "device(type='cuda')"
            ]
          },
          "metadata": {
            "tags": []
          },
          "execution_count": 12
        }
      ]
    },
    {
      "cell_type": "code",
      "metadata": {
        "id": "VIfJG1nqPiYI"
      },
      "source": [
        "# BATCH_SIZE = 128\n",
        "\n",
        "# train_iterator, valid_iterator, test_iterator = BucketIterator.splits(\n",
        "#     (train_data, valid_data, test_data), \n",
        "#      batch_size = BATCH_SIZE,\n",
        "#      device = device)\n",
        "\n",
        "def encode_question(words, word_map):\n",
        "\n",
        "  enc_c = [word_map.get(word ,  word_map['<unk>']) for word in words] + [word_map['<pad>']]*(max_len - len(words))\n",
        "\n",
        "  return enc_c\n",
        "\n",
        "def encode_answer(words, word_map):\n",
        "\n",
        "  enc_a = [word_map['<start>']] + [word_map.get(word ,  word_map['<unk>']) for word in words] +\\\n",
        "   [word_map['<end>']] + [word_map['<pad>']]*(max_len - len(words))\n",
        "\n",
        "  return enc_a\n",
        "\n",
        "\n"
      ],
      "execution_count": 13,
      "outputs": []
    },
    {
      "cell_type": "code",
      "metadata": {
        "id": "8D9V-yWpePQp"
      },
      "source": [
        "pairs_encoded = []\n",
        "for pair in pairs:\n",
        "\n",
        "  qus = encode_question(pair[0] , word_map)\n",
        "  ans = encode_answer(pair[1] , word_map)\n",
        "\n",
        "  pairs_encoded.append([qus , ans])"
      ],
      "execution_count": 14,
      "outputs": []
    },
    {
      "cell_type": "code",
      "metadata": {
        "id": "d7WYBlu2fjJX"
      },
      "source": [
        "with open('pairs_encoded.json', 'w') as p:\n",
        "    json.dump(pairs_encoded, p)\n",
        "\n",
        "class Dataset(Dataset):\n",
        "\n",
        "  def __init__(self):\n",
        "\n",
        "    self.pairs = json.load(open('pairs_encoded.json'))\n",
        "    self.dataset_size = len(self.pairs)\n",
        "\n",
        "  def __getitem__(self, i):\n",
        "\n",
        "    question = torch.LongTensor(self.pairs[i][0])\n",
        "    answer =   torch.LongTensor(self.pairs[i][1])\n",
        "\n",
        "    return question , answer\n",
        "\n",
        "  def __len__(self):\n",
        "    \n",
        "    return self.dataset_size\n"
      ],
      "execution_count": 15,
      "outputs": []
    },
    {
      "cell_type": "code",
      "metadata": {
        "id": "rc78Q7vIfjGF"
      },
      "source": [
        "train_loader = torch.utils.data.DataLoader(Dataset(),\n",
        "                                           batch_size = 100,\n",
        "                                           shuffle=True,\n",
        "                                           pin_memory=True\n",
        "                                           )\n"
      ],
      "execution_count": 16,
      "outputs": []
    },
    {
      "cell_type": "code",
      "metadata": {
        "id": "E50lhEjVDaXH"
      },
      "source": [
        "x , y = next(iter(train_loader))"
      ],
      "execution_count": 17,
      "outputs": []
    },
    {
      "cell_type": "code",
      "metadata": {
        "colab": {
          "base_uri": "https://localhost:8080/"
        },
        "id": "ye0Sn2RLDi6R",
        "outputId": "d2a3efb3-a132-4d32-c542-31c7d8c0fafa"
      },
      "source": [
        "x.shape , y.shape"
      ],
      "execution_count": 18,
      "outputs": [
        {
          "output_type": "execute_result",
          "data": {
            "text/plain": [
              "(torch.Size([100, 25]), torch.Size([100, 27]))"
            ]
          },
          "metadata": {
            "tags": []
          },
          "execution_count": 18
        }
      ]
    },
    {
      "cell_type": "code",
      "metadata": {
        "id": "Jhq_AVOgfjDH"
      },
      "source": [
        "class Embedding(nn.Module):\n",
        "\n",
        "  ####  token dim  #####\n",
        "  def __init__(self, vocab_size , d_model , max_len = 50):\n",
        "    super(Embedding, self).__init__()\n",
        "    self.d_model = d_model\n",
        "    self.embed = nn.Embedding(vocab_size , d_model)\n",
        "    self.dropout = nn.Dropout(0.1)\n",
        "    self.pe  =  self.positional_embedding(max_len ,  d_model)\n",
        "\n",
        "  def positional_embedding(self , max_len ,  d_model):\n",
        "    pe  = torch.zeros(max_len , d_model).to(device)\n",
        "    for pos in range(max_len):\n",
        "      for i in range(0 , d_model ,2):\n",
        "        pe[pos , i] = math.sin(pos / (10000 ** ((2 * i)/d_model))) \n",
        "        pe[pos ,  i+1] =  math.cos(pos / (10000 ** ((2 * (i + 1))/d_model)))\n",
        "    pe = pe.unsqueeze(0)  ## include the batch size \n",
        "    return pe\n",
        "\n",
        "  def forward(self , encoded_words):\n",
        "    embedding = self.embed(encoded_words) * math.sqrt(self.d_model)\n",
        "    #print(\"embedding shape \" , embedding.size())\n",
        "    embedding += self.pe[: , embedding.size(1)]   # pe will automatically be expanded with the same batch size as encoded_words\n",
        "    embedding = self.dropout(embedding)\n",
        "    return embedding"
      ],
      "execution_count": 19,
      "outputs": []
    },
    {
      "cell_type": "code",
      "metadata": {
        "id": "tCX0c3a2fi6i"
      },
      "source": [
        ""
      ],
      "execution_count": 19,
      "outputs": []
    },
    {
      "cell_type": "code",
      "metadata": {
        "id": "VGrhifkwPqQE"
      },
      "source": [
        "class Encoder(nn.Module):\n",
        "\n",
        "    def __init__(self,input_dim, hid_dim, n_layers, n_heads, pf_dim, dropout, device, max_length = 100):\n",
        "      \n",
        "        super().__init__()\n",
        "        self.device = device\n",
        "        self.embed = Embedding(input_dim, hid_dim)\n",
        "        self.layers = nn.ModuleList([EncoderLayer(hid_dim, \n",
        "                                                  n_heads, \n",
        "                                                  pf_dim,\n",
        "                                                  dropout, \n",
        "                                                  device) \n",
        "                                     for _ in range(n_layers)])\n",
        "        \n",
        "        self.dropout = nn.Dropout(dropout)\n",
        "        \n",
        "        self.scale = torch.sqrt(torch.FloatTensor([hid_dim])).to(device)\n",
        "        \n",
        "    def forward(self, src, src_mask):\n",
        "        #src = [batch size, src len]\n",
        "        #src_mask = [batch size, 1, 1, src len]\n",
        "        batch_size = src.shape[0]\n",
        "        src_len = src.shape[1]\n",
        "        src = self.embed(src)\n",
        "        for layer in self.layers:\n",
        "            src = layer(src, src_mask)\n",
        "        return src"
      ],
      "execution_count": 20,
      "outputs": []
    },
    {
      "cell_type": "code",
      "metadata": {
        "id": "1wugnP9zxlZh"
      },
      "source": [
        "class EncoderLayer(nn.Module):\n",
        "    def __init__(self, \n",
        "                 hid_dim, \n",
        "                 n_heads, \n",
        "                 pf_dim,  \n",
        "                 dropout, \n",
        "                 device):\n",
        "        super().__init__()\n",
        "        \n",
        "        self.self_attn_layer_norm = nn.LayerNorm(hid_dim)\n",
        "        self.ff_layer_norm = nn.LayerNorm(hid_dim)\n",
        "        self.self_attention = MultiHeadAttentionLayer(hid_dim, n_heads, dropout, device)\n",
        "        self.positionwise_feedforward = PositionwiseFeedforwardLayer(hid_dim, \n",
        "                                                                     pf_dim, \n",
        "                                                                     dropout)\n",
        "        self.dropout = nn.Dropout(dropout)\n",
        "        \n",
        "    def forward(self, src, src_mask):\n",
        "        \n",
        "        #src = [batch size, src len, hid dim]\n",
        "        #src_mask = [batch size, 1, 1, src len]       \n",
        "        #self attention\n",
        "        _src, _ = self.self_attention(src, src, src, src_mask)\n",
        "        \n",
        "        #dropout, residual connection and layer norm\n",
        "        src = self.self_attn_layer_norm(src + self.dropout(_src))\n",
        "        #src = [batch size, src len, hid dim]\n",
        "\n",
        "        #positionwise feedforward\n",
        "        _src = self.positionwise_feedforward(src)\n",
        "        \n",
        "        #dropout, residual and layer norm\n",
        "        src = self.ff_layer_norm(src + self.dropout(_src))\n",
        "        \n",
        "        #src = [batch size, src len, hid dim]\n",
        "        \n",
        "        return src"
      ],
      "execution_count": 21,
      "outputs": []
    },
    {
      "cell_type": "code",
      "metadata": {
        "id": "duCw4JHU4tUX"
      },
      "source": [
        "class MultiHeadAttentionLayer(nn.Module):\n",
        "    def __init__(self, hid_dim, n_heads, dropout, device):\n",
        "        super().__init__()\n",
        "        \n",
        "        assert hid_dim % n_heads == 0\n",
        "        \n",
        "        self.hid_dim = hid_dim\n",
        "        self.n_heads = n_heads\n",
        "        self.head_dim = hid_dim // n_heads\n",
        "        \n",
        "        self.fc_q = nn.Linear(hid_dim, hid_dim)\n",
        "        self.fc_k = nn.Linear(hid_dim, hid_dim)\n",
        "        self.fc_v = nn.Linear(hid_dim, hid_dim)\n",
        "        \n",
        "        self.fc_o = nn.Linear(hid_dim, hid_dim)\n",
        "        self.dropout = nn.Dropout(dropout)\n",
        "        self.scale = torch.sqrt(torch.FloatTensor([self.head_dim])).to(device)\n",
        "        \n",
        "    def forward(self, query, key, value, mask = None):\n",
        "        \n",
        "        batch_size = query.shape[0]\n",
        "        #query = [batch size, query len, hid dim]\n",
        "        #key = [batch size, key len, hid dim]\n",
        "        #value = [batch size, value len, hid dim]\n",
        "        \n",
        "        Q = self.fc_q(query)  #Q = [batch size, query len, hid dim]\n",
        "        K = self.fc_k(key)    #K = [batch size, key len, hid dim]\n",
        "        V = self.fc_v(value)  #V = [batch size, value len, hid dim]\n",
        "        \n",
        "        Q = Q.view(batch_size, -1, self.n_heads, self.head_dim).permute(0, 2, 1, 3)   #Q = [batch size, n heads, query len, head dim]\n",
        "        K = K.view(batch_size, -1, self.n_heads, self.head_dim).permute(0, 2, 1, 3)   #K = [batch size, n heads, key len, head dim]\n",
        "        V = V.view(batch_size, -1, self.n_heads, self.head_dim).permute(0, 2, 1, 3)   #V = [batch size, n heads, value len, head dim]\n",
        "    \n",
        "        energy = torch.matmul(Q, K.permute(0, 1, 3, 2)) / self.scale   #energy = [batch size, n heads, query len, key len]\n",
        "        if mask is not None:\n",
        "            energy = energy.masked_fill(mask == 0, -1e10)\n",
        "\n",
        "        attention = torch.softmax(energy, dim = -1)   #attention = [batch size, n heads, query len, key len]\n",
        "        x = torch.matmul(self.dropout(attention), V)  #x = [batch size, n heads, query len, head dim]\n",
        "        x = x.permute(0, 2, 1, 3).contiguous()        #x = [batch size, query len, n heads, head dim]\n",
        "        x = x.view(batch_size, -1, self.hid_dim)      #x = [batch size, query len, hid dim]\n",
        "        x = self.fc_o(x)                              #x = [batch size, query len, hid dim]\n",
        "        return x, attention"
      ],
      "execution_count": 22,
      "outputs": []
    },
    {
      "cell_type": "code",
      "metadata": {
        "id": "7BxSeuGk5t-w"
      },
      "source": [
        "class PositionwiseFeedforwardLayer(nn.Module):\n",
        "    def __init__(self, hid_dim, pf_dim, dropout):\n",
        "        super().__init__()\n",
        "        \n",
        "        self.fc_1 = nn.Linear(hid_dim, pf_dim)\n",
        "        self.fc_2 = nn.Linear(pf_dim, hid_dim)\n",
        "        self.dropout = nn.Dropout(dropout)\n",
        "        \n",
        "    def forward(self, x):\n",
        "        #x = [batch size, seq len, hid dim]\n",
        "        x = self.dropout(torch.relu(self.fc_1(x)))\n",
        "        #x = [batch size, seq len, pf dim]\n",
        "        x = self.fc_2(x)\n",
        "        #x = [batch size, seq len, hid dim]\n",
        "        return x"
      ],
      "execution_count": 23,
      "outputs": []
    },
    {
      "cell_type": "markdown",
      "metadata": {
        "id": "TKHKvzqM7RLj"
      },
      "source": [
        "![](https://raw.githubusercontent.com/bentrevett/pytorch-seq2seq/9479fcb532214ad26fd4bda9fcf081a05e1aaf4e/assets/transformer-decoder.png)"
      ]
    },
    {
      "cell_type": "code",
      "metadata": {
        "id": "dDwj1YHj7Rvh"
      },
      "source": [
        "class Decoder(nn.Module):\n",
        "    def __init__(self, output_dim, hid_dim, n_layers, n_heads, pf_dim, dropout, device,max_length = 100):\n",
        "        \n",
        "        super().__init__()\n",
        "        self.device = device\n",
        "        self.embed = Embedding(output_dim, hid_dim)\n",
        "        self.layers = nn.ModuleList([DecoderLayer(hid_dim, \n",
        "                                                  n_heads, \n",
        "                                                  pf_dim, \n",
        "                                                  dropout, \n",
        "                                                  device)\n",
        "                                     for _ in range(n_layers)])\n",
        "        self.fc_out = nn.Linear(hid_dim, output_dim)\n",
        "        self.dropout = nn.Dropout(dropout)\n",
        "        self.scale = torch.sqrt(torch.FloatTensor([hid_dim])).to(device)\n",
        "        \n",
        "    def forward(self, trg, enc_src, trg_mask, src_mask):\n",
        "        #trg = [batch size, trg len]\n",
        "        #enc_src = [batch size, src len, hid dim]\n",
        "        #trg_mask = [batch size, 1, trg len, trg len]\n",
        "        #src_mask = [batch size, 1, 1, src len]\n",
        "                \n",
        "        batch_size = trg.shape[0]\n",
        "        trg_len = trg.shape[1]\n",
        "\n",
        "        trg = self.embed(trg)   #trg = [batch size, trg len, hid dim]\n",
        "        for layer in self.layers:\n",
        "            trg, attention = layer(trg, enc_src, trg_mask, src_mask)   #trg = [batch size, trg len, hid dim]  \n",
        "                                                                       #attention = [batch size, n heads, trg len, src len] \n",
        "        output = self.fc_out(trg)    #output = [batch size, trg len, output dim]\n",
        "        \n",
        "        return output, attention"
      ],
      "execution_count": 24,
      "outputs": []
    },
    {
      "cell_type": "code",
      "metadata": {
        "id": "1VQlaM7TBydw"
      },
      "source": [
        "class DecoderLayer(nn.Module):\n",
        "\n",
        "    def __init__(self, hid_dim, n_heads,pf_dim, dropout, device):\n",
        "      \n",
        "        super().__init__()\n",
        "        \n",
        "        self.self_attn_layer_norm = nn.LayerNorm(hid_dim)\n",
        "        self.enc_attn_layer_norm = nn.LayerNorm(hid_dim)\n",
        "        self.ff_layer_norm = nn.LayerNorm(hid_dim)\n",
        "\n",
        "        self.self_attention = MultiHeadAttentionLayer(hid_dim, n_heads, dropout, device)\n",
        "        self.encoder_attention = MultiHeadAttentionLayer(hid_dim, n_heads, dropout, device)\n",
        "        self.positionwise_feedforward = PositionwiseFeedforwardLayer(hid_dim, \n",
        "                                                                     pf_dim, \n",
        "                                                                     dropout)\n",
        "        self.dropout = nn.Dropout(dropout)\n",
        "        \n",
        "    def forward(self, trg, enc_src, trg_mask, src_mask):\n",
        "        \n",
        "        #trg = [batch size, trg len, hid dim]\n",
        "        #enc_src = [batch size, src len, hid dim]\n",
        "        #trg_mask = [batch size, 1, trg len, trg len]\n",
        "        #src_mask = [batch size, 1, 1, src len]\n",
        "\n",
        "        _trg, _ = self.self_attention(trg, trg, trg, trg_mask) #self attention\n",
        "        trg = self.self_attn_layer_norm(trg + self.dropout(_trg))  #dropout, residual connection and layer norm    \n",
        "        #trg = [batch size, trg len, hid dim]\n",
        "        _trg, attention = self.encoder_attention(trg, enc_src, enc_src, src_mask) #encoder attention\n",
        "        # query, key, value\n",
        "\n",
        "        #dropout, residual connection and layer norm\n",
        "        trg = self.enc_attn_layer_norm(trg + self.dropout(_trg))   #trg = [batch size, trg len, hid dim]\n",
        "\n",
        "        #positionwise feedforward\n",
        "        _trg = self.positionwise_feedforward(trg)\n",
        "        \n",
        "        #dropout, residual and layer norm\n",
        "        trg = self.ff_layer_norm(trg + self.dropout(_trg))  #trg = [batch size, trg len, hid dim]\n",
        "\n",
        "        #attention = [batch size, n heads, trg len, src len]\n",
        "        return trg, attention"
      ],
      "execution_count": 25,
      "outputs": []
    },
    {
      "cell_type": "code",
      "metadata": {
        "id": "s__X6yEcBySL"
      },
      "source": [
        "class Seq2Seq(nn.Module):\n",
        "    def __init__(self, \n",
        "                 encoder, \n",
        "                 decoder, \n",
        "                 src_pad_idx, \n",
        "                 trg_pad_idx, \n",
        "                 device):\n",
        "        super().__init__()\n",
        "        \n",
        "        self.encoder = encoder\n",
        "        self.decoder = decoder\n",
        "        self.src_pad_idx = src_pad_idx\n",
        "        self.trg_pad_idx = trg_pad_idx\n",
        "        self.device = device\n",
        "        \n",
        "    def make_src_mask(self, src):\n",
        "        \n",
        "        #src = [batch size, src len]\n",
        "        \n",
        "        src_mask = (src != self.src_pad_idx).unsqueeze(1).unsqueeze(2)\n",
        "\n",
        "        #src_mask = [batch size, 1, 1, src len]\n",
        "\n",
        "        return src_mask\n",
        "    \n",
        "    def make_trg_mask(self, trg):\n",
        "        \n",
        "        #trg = [batch size, trg len]\n",
        "        \n",
        "        trg_pad_mask = (trg != self.trg_pad_idx).unsqueeze(1).unsqueeze(2)\n",
        "        \n",
        "        #trg_pad_mask = [batch size, 1, 1, trg len]\n",
        "        \n",
        "        trg_len = trg.shape[1]\n",
        "        \n",
        "        trg_sub_mask = torch.tril(torch.ones((trg_len, trg_len), device = self.device)).bool()\n",
        "        \n",
        "        #trg_sub_mask = [trg len, trg len]\n",
        "            \n",
        "        trg_mask = trg_pad_mask & trg_sub_mask\n",
        "        \n",
        "        #trg_mask = [batch size, 1, trg len, trg len]\n",
        "        \n",
        "        return trg_mask\n",
        "\n",
        "    def forward(self, src, trg):\n",
        "        \n",
        "        #src = [batch size, src len]\n",
        "        #trg = [batch size, trg len]\n",
        "                \n",
        "        src_mask = self.make_src_mask(src)\n",
        "        trg_mask = self.make_trg_mask(trg)\n",
        "        \n",
        "        #src_mask = [batch size, 1, 1, src len]\n",
        "        #trg_mask = [batch size, 1, trg len, trg len]\n",
        "        \n",
        "        enc_src = self.encoder(src, src_mask)\n",
        "        \n",
        "        #enc_src = [batch size, src len, hid dim]\n",
        "                \n",
        "        output, attention = self.decoder(trg, enc_src, trg_mask, src_mask)\n",
        "        \n",
        "        #output = [batch size, trg len, output dim]\n",
        "        #attention = [batch size, n heads, trg len, src len]\n",
        "        \n",
        "        return output, attention"
      ],
      "execution_count": 26,
      "outputs": []
    },
    {
      "cell_type": "code",
      "metadata": {
        "colab": {
          "base_uri": "https://localhost:8080/"
        },
        "id": "mRkFCrfTNtLl",
        "outputId": "dbd209ea-fb29-44a8-b382-ed0c88c18462"
      },
      "source": [
        "len(word_map)\n"
      ],
      "execution_count": 27,
      "outputs": [
        {
          "output_type": "execute_result",
          "data": {
            "text/plain": [
              "448"
            ]
          },
          "metadata": {
            "tags": []
          },
          "execution_count": 27
        }
      ]
    },
    {
      "cell_type": "code",
      "metadata": {
        "id": "_2FZnWSBFJas"
      },
      "source": [
        "INPUT_DIM = len(word_map)\n",
        "OUTPUT_DIM = len(word_map)\n",
        "HID_DIM = 256\n",
        "ENC_LAYERS = 3\n",
        "DEC_LAYERS = 3\n",
        "ENC_HEADS = 8\n",
        "DEC_HEADS = 8\n",
        "ENC_PF_DIM = 512\n",
        "DEC_PF_DIM = 512\n",
        "ENC_DROPOUT = 0.1\n",
        "DEC_DROPOUT = 0.1\n",
        "\n",
        "enc = Encoder(INPUT_DIM, \n",
        "              HID_DIM, \n",
        "              ENC_LAYERS, \n",
        "              ENC_HEADS, \n",
        "              ENC_PF_DIM, \n",
        "              ENC_DROPOUT, \n",
        "              device)\n",
        "\n",
        "dec = Decoder(OUTPUT_DIM, \n",
        "              HID_DIM, \n",
        "              DEC_LAYERS, \n",
        "              DEC_HEADS, \n",
        "              DEC_PF_DIM, \n",
        "              DEC_DROPOUT, \n",
        "              device)\n"
      ],
      "execution_count": 28,
      "outputs": []
    },
    {
      "cell_type": "code",
      "metadata": {
        "id": "VrK1rRTmO4ql"
      },
      "source": [
        ""
      ],
      "execution_count": 28,
      "outputs": []
    },
    {
      "cell_type": "code",
      "metadata": {
        "id": "iy3FZKjhGeUb"
      },
      "source": [
        "# SRC_PAD_IDX = SRC.vocab.stoi[SRC.pad_token]\n",
        "# TRG_PAD_IDX = TRG.vocab.stoi[TRG.pad_token]\n",
        "\n",
        "model = Seq2Seq(enc, dec, word_map['<pad>'], word_map['<pad>'], device).to(device)\n"
      ],
      "execution_count": 29,
      "outputs": []
    },
    {
      "cell_type": "code",
      "metadata": {
        "colab": {
          "base_uri": "https://localhost:8080/"
        },
        "id": "gHt8iOucGeRO",
        "outputId": "8753aa58-b3b7-4925-a639-f6c49d5910e9"
      },
      "source": [
        "def count_parameters(model):\n",
        "    return sum(p.numel() for p in model.parameters() if p.requires_grad)\n",
        "\n",
        "print(f'The model has {count_parameters(model):,} trainable parameters')"
      ],
      "execution_count": 30,
      "outputs": [
        {
          "output_type": "stream",
          "text": [
            "The model has 4,298,176 trainable parameters\n"
          ],
          "name": "stdout"
        }
      ]
    },
    {
      "cell_type": "code",
      "metadata": {
        "colab": {
          "base_uri": "https://localhost:8080/"
        },
        "id": "TxsmItqeGeNt",
        "outputId": "45390d21-ff34-4f6b-b4df-64d9b6b9eb32"
      },
      "source": [
        "def initialize_weights(m):\n",
        "    if hasattr(m, 'weight') and m.weight.dim() > 1:\n",
        "        nn.init.xavier_uniform_(m.weight.data)\n",
        "\n",
        "model.apply(initialize_weights)"
      ],
      "execution_count": 31,
      "outputs": [
        {
          "output_type": "execute_result",
          "data": {
            "text/plain": [
              "Seq2Seq(\n",
              "  (encoder): Encoder(\n",
              "    (embed): Embedding(\n",
              "      (embed): Embedding(448, 256)\n",
              "      (dropout): Dropout(p=0.1, inplace=False)\n",
              "    )\n",
              "    (layers): ModuleList(\n",
              "      (0): EncoderLayer(\n",
              "        (self_attn_layer_norm): LayerNorm((256,), eps=1e-05, elementwise_affine=True)\n",
              "        (ff_layer_norm): LayerNorm((256,), eps=1e-05, elementwise_affine=True)\n",
              "        (self_attention): MultiHeadAttentionLayer(\n",
              "          (fc_q): Linear(in_features=256, out_features=256, bias=True)\n",
              "          (fc_k): Linear(in_features=256, out_features=256, bias=True)\n",
              "          (fc_v): Linear(in_features=256, out_features=256, bias=True)\n",
              "          (fc_o): Linear(in_features=256, out_features=256, bias=True)\n",
              "          (dropout): Dropout(p=0.1, inplace=False)\n",
              "        )\n",
              "        (positionwise_feedforward): PositionwiseFeedforwardLayer(\n",
              "          (fc_1): Linear(in_features=256, out_features=512, bias=True)\n",
              "          (fc_2): Linear(in_features=512, out_features=256, bias=True)\n",
              "          (dropout): Dropout(p=0.1, inplace=False)\n",
              "        )\n",
              "        (dropout): Dropout(p=0.1, inplace=False)\n",
              "      )\n",
              "      (1): EncoderLayer(\n",
              "        (self_attn_layer_norm): LayerNorm((256,), eps=1e-05, elementwise_affine=True)\n",
              "        (ff_layer_norm): LayerNorm((256,), eps=1e-05, elementwise_affine=True)\n",
              "        (self_attention): MultiHeadAttentionLayer(\n",
              "          (fc_q): Linear(in_features=256, out_features=256, bias=True)\n",
              "          (fc_k): Linear(in_features=256, out_features=256, bias=True)\n",
              "          (fc_v): Linear(in_features=256, out_features=256, bias=True)\n",
              "          (fc_o): Linear(in_features=256, out_features=256, bias=True)\n",
              "          (dropout): Dropout(p=0.1, inplace=False)\n",
              "        )\n",
              "        (positionwise_feedforward): PositionwiseFeedforwardLayer(\n",
              "          (fc_1): Linear(in_features=256, out_features=512, bias=True)\n",
              "          (fc_2): Linear(in_features=512, out_features=256, bias=True)\n",
              "          (dropout): Dropout(p=0.1, inplace=False)\n",
              "        )\n",
              "        (dropout): Dropout(p=0.1, inplace=False)\n",
              "      )\n",
              "      (2): EncoderLayer(\n",
              "        (self_attn_layer_norm): LayerNorm((256,), eps=1e-05, elementwise_affine=True)\n",
              "        (ff_layer_norm): LayerNorm((256,), eps=1e-05, elementwise_affine=True)\n",
              "        (self_attention): MultiHeadAttentionLayer(\n",
              "          (fc_q): Linear(in_features=256, out_features=256, bias=True)\n",
              "          (fc_k): Linear(in_features=256, out_features=256, bias=True)\n",
              "          (fc_v): Linear(in_features=256, out_features=256, bias=True)\n",
              "          (fc_o): Linear(in_features=256, out_features=256, bias=True)\n",
              "          (dropout): Dropout(p=0.1, inplace=False)\n",
              "        )\n",
              "        (positionwise_feedforward): PositionwiseFeedforwardLayer(\n",
              "          (fc_1): Linear(in_features=256, out_features=512, bias=True)\n",
              "          (fc_2): Linear(in_features=512, out_features=256, bias=True)\n",
              "          (dropout): Dropout(p=0.1, inplace=False)\n",
              "        )\n",
              "        (dropout): Dropout(p=0.1, inplace=False)\n",
              "      )\n",
              "    )\n",
              "    (dropout): Dropout(p=0.1, inplace=False)\n",
              "  )\n",
              "  (decoder): Decoder(\n",
              "    (embed): Embedding(\n",
              "      (embed): Embedding(448, 256)\n",
              "      (dropout): Dropout(p=0.1, inplace=False)\n",
              "    )\n",
              "    (layers): ModuleList(\n",
              "      (0): DecoderLayer(\n",
              "        (self_attn_layer_norm): LayerNorm((256,), eps=1e-05, elementwise_affine=True)\n",
              "        (enc_attn_layer_norm): LayerNorm((256,), eps=1e-05, elementwise_affine=True)\n",
              "        (ff_layer_norm): LayerNorm((256,), eps=1e-05, elementwise_affine=True)\n",
              "        (self_attention): MultiHeadAttentionLayer(\n",
              "          (fc_q): Linear(in_features=256, out_features=256, bias=True)\n",
              "          (fc_k): Linear(in_features=256, out_features=256, bias=True)\n",
              "          (fc_v): Linear(in_features=256, out_features=256, bias=True)\n",
              "          (fc_o): Linear(in_features=256, out_features=256, bias=True)\n",
              "          (dropout): Dropout(p=0.1, inplace=False)\n",
              "        )\n",
              "        (encoder_attention): MultiHeadAttentionLayer(\n",
              "          (fc_q): Linear(in_features=256, out_features=256, bias=True)\n",
              "          (fc_k): Linear(in_features=256, out_features=256, bias=True)\n",
              "          (fc_v): Linear(in_features=256, out_features=256, bias=True)\n",
              "          (fc_o): Linear(in_features=256, out_features=256, bias=True)\n",
              "          (dropout): Dropout(p=0.1, inplace=False)\n",
              "        )\n",
              "        (positionwise_feedforward): PositionwiseFeedforwardLayer(\n",
              "          (fc_1): Linear(in_features=256, out_features=512, bias=True)\n",
              "          (fc_2): Linear(in_features=512, out_features=256, bias=True)\n",
              "          (dropout): Dropout(p=0.1, inplace=False)\n",
              "        )\n",
              "        (dropout): Dropout(p=0.1, inplace=False)\n",
              "      )\n",
              "      (1): DecoderLayer(\n",
              "        (self_attn_layer_norm): LayerNorm((256,), eps=1e-05, elementwise_affine=True)\n",
              "        (enc_attn_layer_norm): LayerNorm((256,), eps=1e-05, elementwise_affine=True)\n",
              "        (ff_layer_norm): LayerNorm((256,), eps=1e-05, elementwise_affine=True)\n",
              "        (self_attention): MultiHeadAttentionLayer(\n",
              "          (fc_q): Linear(in_features=256, out_features=256, bias=True)\n",
              "          (fc_k): Linear(in_features=256, out_features=256, bias=True)\n",
              "          (fc_v): Linear(in_features=256, out_features=256, bias=True)\n",
              "          (fc_o): Linear(in_features=256, out_features=256, bias=True)\n",
              "          (dropout): Dropout(p=0.1, inplace=False)\n",
              "        )\n",
              "        (encoder_attention): MultiHeadAttentionLayer(\n",
              "          (fc_q): Linear(in_features=256, out_features=256, bias=True)\n",
              "          (fc_k): Linear(in_features=256, out_features=256, bias=True)\n",
              "          (fc_v): Linear(in_features=256, out_features=256, bias=True)\n",
              "          (fc_o): Linear(in_features=256, out_features=256, bias=True)\n",
              "          (dropout): Dropout(p=0.1, inplace=False)\n",
              "        )\n",
              "        (positionwise_feedforward): PositionwiseFeedforwardLayer(\n",
              "          (fc_1): Linear(in_features=256, out_features=512, bias=True)\n",
              "          (fc_2): Linear(in_features=512, out_features=256, bias=True)\n",
              "          (dropout): Dropout(p=0.1, inplace=False)\n",
              "        )\n",
              "        (dropout): Dropout(p=0.1, inplace=False)\n",
              "      )\n",
              "      (2): DecoderLayer(\n",
              "        (self_attn_layer_norm): LayerNorm((256,), eps=1e-05, elementwise_affine=True)\n",
              "        (enc_attn_layer_norm): LayerNorm((256,), eps=1e-05, elementwise_affine=True)\n",
              "        (ff_layer_norm): LayerNorm((256,), eps=1e-05, elementwise_affine=True)\n",
              "        (self_attention): MultiHeadAttentionLayer(\n",
              "          (fc_q): Linear(in_features=256, out_features=256, bias=True)\n",
              "          (fc_k): Linear(in_features=256, out_features=256, bias=True)\n",
              "          (fc_v): Linear(in_features=256, out_features=256, bias=True)\n",
              "          (fc_o): Linear(in_features=256, out_features=256, bias=True)\n",
              "          (dropout): Dropout(p=0.1, inplace=False)\n",
              "        )\n",
              "        (encoder_attention): MultiHeadAttentionLayer(\n",
              "          (fc_q): Linear(in_features=256, out_features=256, bias=True)\n",
              "          (fc_k): Linear(in_features=256, out_features=256, bias=True)\n",
              "          (fc_v): Linear(in_features=256, out_features=256, bias=True)\n",
              "          (fc_o): Linear(in_features=256, out_features=256, bias=True)\n",
              "          (dropout): Dropout(p=0.1, inplace=False)\n",
              "        )\n",
              "        (positionwise_feedforward): PositionwiseFeedforwardLayer(\n",
              "          (fc_1): Linear(in_features=256, out_features=512, bias=True)\n",
              "          (fc_2): Linear(in_features=512, out_features=256, bias=True)\n",
              "          (dropout): Dropout(p=0.1, inplace=False)\n",
              "        )\n",
              "        (dropout): Dropout(p=0.1, inplace=False)\n",
              "      )\n",
              "    )\n",
              "    (fc_out): Linear(in_features=256, out_features=448, bias=True)\n",
              "    (dropout): Dropout(p=0.1, inplace=False)\n",
              "  )\n",
              ")"
            ]
          },
          "metadata": {
            "tags": []
          },
          "execution_count": 31
        }
      ]
    },
    {
      "cell_type": "code",
      "metadata": {
        "id": "DLB99497GeK0"
      },
      "source": [
        "LEARNING_RATE = 0.0005\n",
        "\n",
        "optimizer = torch.optim.Adam(model.parameters(), lr = LEARNING_RATE)  "
      ],
      "execution_count": 32,
      "outputs": []
    },
    {
      "cell_type": "code",
      "metadata": {
        "id": "GoJDoYaMGeIU"
      },
      "source": [
        "criterion = nn.CrossEntropyLoss(ignore_index = word_map['<pad>'])\n"
      ],
      "execution_count": 33,
      "outputs": []
    },
    {
      "cell_type": "code",
      "metadata": {
        "id": "4jmnOhT2FpSP"
      },
      "source": [
        ""
      ],
      "execution_count": 33,
      "outputs": []
    },
    {
      "cell_type": "code",
      "metadata": {
        "id": "Rpz0RfrLGeAA"
      },
      "source": [
        "def train(model, iterator, optimizer, criterion, clip):\n",
        "    \n",
        "    model.train()\n",
        "    \n",
        "    epoch_loss = 0\n",
        "    \n",
        "    for i, batch in enumerate(iterator):\n",
        "        \n",
        "        src = batch[0].to(device)\n",
        "        trg = batch[1].to(device)\n",
        "        \n",
        "\n",
        "        #print(\"Src and trg shape \" , src.shape , trg.shape)\n",
        "        optimizer.zero_grad()\n",
        "        \n",
        "        output, _ = model(src, trg[:,:-1])\n",
        "                \n",
        "        #output = [batch size, trg len - 1, output dim]\n",
        "        #trg = [batch size, trg len]\n",
        "            \n",
        "        output_dim = output.shape[-1]\n",
        "            \n",
        "        output = output.contiguous().view(-1, output_dim)\n",
        "        trg = trg[:,1:].contiguous().view(-1)\n",
        "                \n",
        "        #output = [batch size * trg len - 1, output dim]\n",
        "        #trg = [batch size * trg len - 1]\n",
        "            \n",
        "        loss = criterion(output, trg)\n",
        "        \n",
        "        loss.backward()\n",
        "        \n",
        "        torch.nn.utils.clip_grad_norm_(model.parameters(), clip)\n",
        "        \n",
        "        optimizer.step()\n",
        "        \n",
        "        epoch_loss += loss.item()\n",
        "        \n",
        "    return epoch_loss / len(iterator)"
      ],
      "execution_count": 34,
      "outputs": []
    },
    {
      "cell_type": "code",
      "metadata": {
        "id": "8thA5PFUIGt1"
      },
      "source": [
        "def evaluate(model, iterator, criterion):\n",
        "    \n",
        "    model.eval()\n",
        "    \n",
        "    epoch_loss = 0\n",
        "    \n",
        "    with torch.no_grad():\n",
        "    \n",
        "        for i, batch in enumerate(iterator):\n",
        "\n",
        "            src = batch[0]\n",
        "            trg = batch[0]\n",
        "\n",
        "            output, _ = model(src, trg[:,:-1])\n",
        "            \n",
        "            #output = [batch size, trg len - 1, output dim]\n",
        "            #trg = [batch size, trg len]\n",
        "            \n",
        "            output_dim = output.shape[-1]\n",
        "            \n",
        "            output = output.contiguous().view(-1, output_dim)\n",
        "            trg = trg[:,1:].contiguous().view(-1)\n",
        "            \n",
        "            #output = [batch size * trg len - 1, output dim]\n",
        "            #trg = [batch size * trg len - 1]\n",
        "            \n",
        "            loss = criterion(output, trg)\n",
        "\n",
        "            epoch_loss += loss.item()\n",
        "        \n",
        "    return epoch_loss / len(iterator)"
      ],
      "execution_count": 35,
      "outputs": []
    },
    {
      "cell_type": "code",
      "metadata": {
        "id": "Wu5HNfR7IGql"
      },
      "source": [
        "def epoch_time(start_time, end_time):\n",
        "    elapsed_time = end_time - start_time\n",
        "    elapsed_mins = int(elapsed_time / 60)\n",
        "    elapsed_secs = int(elapsed_time - (elapsed_mins * 60))\n",
        "    return elapsed_mins, elapsed_secs"
      ],
      "execution_count": 36,
      "outputs": []
    },
    {
      "cell_type": "code",
      "metadata": {
        "id": "le92yKx-IGni",
        "colab": {
          "base_uri": "https://localhost:8080/"
        },
        "outputId": "99148e74-4487-4f73-c851-253d450befaf"
      },
      "source": [
        "N_EPOCHS = 100\n",
        "CLIP = 1\n",
        "\n",
        "best_valid_loss = float('inf')\n",
        "\n",
        "for epoch in range(N_EPOCHS):\n",
        "    \n",
        "    start_time = time.time()\n",
        "    \n",
        "    train_loss = train(model, train_loader, optimizer, criterion, CLIP)\n",
        "    #valid_loss = evaluate(model, valid_iterator, criterion)\n",
        "    \n",
        "    end_time = time.time()\n",
        "    \n",
        "    epoch_mins, epoch_secs = epoch_time(start_time, end_time)\n",
        "    \n",
        "    # if valid_loss < best_valid_loss:\n",
        "    #     best_valid_loss = valid_loss\n",
        "    #     torch.save(model.state_dict(), 'tut6-model.pt')\n",
        "    \n",
        "    print(f'Epoch: {epoch+1:02} | Time: {epoch_mins}m {epoch_secs}s')\n",
        "    print(f'\\tTrain Loss: {train_loss:.3f} | Train PPL: {math.exp(train_loss):7.3f}')\n",
        "    #print(f'\\t Val. Loss: {valid_loss:.3f} |  Val. PPL: {math.exp(valid_loss):7.3f}')"
      ],
      "execution_count": 38,
      "outputs": [
        {
          "output_type": "stream",
          "text": [
            "Epoch: 01 | Time: 0m 0s\n",
            "\tTrain Loss: 3.545 | Train PPL:  34.623\n",
            "Epoch: 02 | Time: 0m 0s\n",
            "\tTrain Loss: 3.440 | Train PPL:  31.194\n",
            "Epoch: 03 | Time: 0m 0s\n",
            "\tTrain Loss: 3.348 | Train PPL:  28.452\n",
            "Epoch: 04 | Time: 0m 0s\n",
            "\tTrain Loss: 3.259 | Train PPL:  26.031\n",
            "Epoch: 05 | Time: 0m 0s\n",
            "\tTrain Loss: 3.182 | Train PPL:  24.103\n",
            "Epoch: 06 | Time: 0m 0s\n",
            "\tTrain Loss: 3.113 | Train PPL:  22.477\n",
            "Epoch: 07 | Time: 0m 0s\n",
            "\tTrain Loss: 3.031 | Train PPL:  20.710\n",
            "Epoch: 08 | Time: 0m 0s\n",
            "\tTrain Loss: 2.955 | Train PPL:  19.195\n",
            "Epoch: 09 | Time: 0m 0s\n",
            "\tTrain Loss: 2.884 | Train PPL:  17.879\n",
            "Epoch: 10 | Time: 0m 0s\n",
            "\tTrain Loss: 2.839 | Train PPL:  17.093\n",
            "Epoch: 11 | Time: 0m 0s\n",
            "\tTrain Loss: 2.768 | Train PPL:  15.933\n",
            "Epoch: 12 | Time: 0m 0s\n",
            "\tTrain Loss: 2.710 | Train PPL:  15.027\n",
            "Epoch: 13 | Time: 0m 0s\n",
            "\tTrain Loss: 2.642 | Train PPL:  14.045\n",
            "Epoch: 14 | Time: 0m 0s\n",
            "\tTrain Loss: 2.584 | Train PPL:  13.247\n",
            "Epoch: 15 | Time: 0m 0s\n",
            "\tTrain Loss: 2.536 | Train PPL:  12.635\n",
            "Epoch: 16 | Time: 0m 0s\n",
            "\tTrain Loss: 2.477 | Train PPL:  11.903\n",
            "Epoch: 17 | Time: 0m 0s\n",
            "\tTrain Loss: 2.434 | Train PPL:  11.399\n",
            "Epoch: 18 | Time: 0m 0s\n",
            "\tTrain Loss: 2.382 | Train PPL:  10.831\n",
            "Epoch: 19 | Time: 0m 0s\n",
            "\tTrain Loss: 2.319 | Train PPL:  10.167\n",
            "Epoch: 20 | Time: 0m 0s\n",
            "\tTrain Loss: 2.282 | Train PPL:   9.794\n",
            "Epoch: 21 | Time: 0m 0s\n",
            "\tTrain Loss: 2.224 | Train PPL:   9.244\n",
            "Epoch: 22 | Time: 0m 0s\n",
            "\tTrain Loss: 2.179 | Train PPL:   8.836\n",
            "Epoch: 23 | Time: 0m 0s\n",
            "\tTrain Loss: 2.125 | Train PPL:   8.371\n",
            "Epoch: 24 | Time: 0m 0s\n",
            "\tTrain Loss: 2.085 | Train PPL:   8.044\n",
            "Epoch: 25 | Time: 0m 0s\n",
            "\tTrain Loss: 2.032 | Train PPL:   7.629\n",
            "Epoch: 26 | Time: 0m 0s\n",
            "\tTrain Loss: 1.982 | Train PPL:   7.254\n",
            "Epoch: 27 | Time: 0m 0s\n",
            "\tTrain Loss: 1.939 | Train PPL:   6.955\n",
            "Epoch: 28 | Time: 0m 0s\n",
            "\tTrain Loss: 1.906 | Train PPL:   6.727\n",
            "Epoch: 29 | Time: 0m 0s\n",
            "\tTrain Loss: 1.866 | Train PPL:   6.463\n",
            "Epoch: 30 | Time: 0m 0s\n",
            "\tTrain Loss: 1.825 | Train PPL:   6.203\n",
            "Epoch: 31 | Time: 0m 0s\n",
            "\tTrain Loss: 1.788 | Train PPL:   5.978\n",
            "Epoch: 32 | Time: 0m 0s\n",
            "\tTrain Loss: 1.735 | Train PPL:   5.671\n",
            "Epoch: 33 | Time: 0m 0s\n",
            "\tTrain Loss: 1.702 | Train PPL:   5.487\n",
            "Epoch: 34 | Time: 0m 0s\n",
            "\tTrain Loss: 1.659 | Train PPL:   5.255\n",
            "Epoch: 35 | Time: 0m 0s\n",
            "\tTrain Loss: 1.627 | Train PPL:   5.087\n",
            "Epoch: 36 | Time: 0m 0s\n",
            "\tTrain Loss: 1.601 | Train PPL:   4.959\n",
            "Epoch: 37 | Time: 0m 0s\n",
            "\tTrain Loss: 1.557 | Train PPL:   4.745\n",
            "Epoch: 38 | Time: 0m 0s\n",
            "\tTrain Loss: 1.522 | Train PPL:   4.579\n",
            "Epoch: 39 | Time: 0m 0s\n",
            "\tTrain Loss: 1.481 | Train PPL:   4.396\n",
            "Epoch: 40 | Time: 0m 0s\n",
            "\tTrain Loss: 1.451 | Train PPL:   4.269\n",
            "Epoch: 41 | Time: 0m 0s\n",
            "\tTrain Loss: 1.421 | Train PPL:   4.142\n",
            "Epoch: 42 | Time: 0m 0s\n",
            "\tTrain Loss: 1.394 | Train PPL:   4.029\n",
            "Epoch: 43 | Time: 0m 0s\n",
            "\tTrain Loss: 1.366 | Train PPL:   3.920\n",
            "Epoch: 44 | Time: 0m 0s\n",
            "\tTrain Loss: 1.328 | Train PPL:   3.775\n",
            "Epoch: 45 | Time: 0m 0s\n",
            "\tTrain Loss: 1.301 | Train PPL:   3.672\n",
            "Epoch: 46 | Time: 0m 0s\n",
            "\tTrain Loss: 1.258 | Train PPL:   3.519\n",
            "Epoch: 47 | Time: 0m 0s\n",
            "\tTrain Loss: 1.240 | Train PPL:   3.456\n",
            "Epoch: 48 | Time: 0m 0s\n",
            "\tTrain Loss: 1.215 | Train PPL:   3.371\n",
            "Epoch: 49 | Time: 0m 0s\n",
            "\tTrain Loss: 1.186 | Train PPL:   3.273\n",
            "Epoch: 50 | Time: 0m 0s\n",
            "\tTrain Loss: 1.152 | Train PPL:   3.166\n",
            "Epoch: 51 | Time: 0m 0s\n",
            "\tTrain Loss: 1.138 | Train PPL:   3.121\n",
            "Epoch: 52 | Time: 0m 0s\n",
            "\tTrain Loss: 1.114 | Train PPL:   3.045\n",
            "Epoch: 53 | Time: 0m 0s\n",
            "\tTrain Loss: 1.082 | Train PPL:   2.950\n",
            "Epoch: 54 | Time: 0m 0s\n",
            "\tTrain Loss: 1.053 | Train PPL:   2.867\n",
            "Epoch: 55 | Time: 0m 0s\n",
            "\tTrain Loss: 1.040 | Train PPL:   2.829\n",
            "Epoch: 56 | Time: 0m 0s\n",
            "\tTrain Loss: 1.007 | Train PPL:   2.737\n",
            "Epoch: 57 | Time: 0m 0s\n",
            "\tTrain Loss: 0.987 | Train PPL:   2.684\n",
            "Epoch: 58 | Time: 0m 0s\n",
            "\tTrain Loss: 0.966 | Train PPL:   2.627\n",
            "Epoch: 59 | Time: 0m 0s\n",
            "\tTrain Loss: 0.945 | Train PPL:   2.572\n",
            "Epoch: 60 | Time: 0m 0s\n",
            "\tTrain Loss: 0.929 | Train PPL:   2.532\n",
            "Epoch: 61 | Time: 0m 0s\n",
            "\tTrain Loss: 0.902 | Train PPL:   2.465\n",
            "Epoch: 62 | Time: 0m 0s\n",
            "\tTrain Loss: 0.874 | Train PPL:   2.396\n",
            "Epoch: 63 | Time: 0m 0s\n",
            "\tTrain Loss: 0.860 | Train PPL:   2.362\n",
            "Epoch: 64 | Time: 0m 0s\n",
            "\tTrain Loss: 0.840 | Train PPL:   2.317\n",
            "Epoch: 65 | Time: 0m 0s\n",
            "\tTrain Loss: 0.824 | Train PPL:   2.280\n",
            "Epoch: 66 | Time: 0m 0s\n",
            "\tTrain Loss: 0.802 | Train PPL:   2.230\n",
            "Epoch: 67 | Time: 0m 0s\n",
            "\tTrain Loss: 0.801 | Train PPL:   2.227\n",
            "Epoch: 68 | Time: 0m 0s\n",
            "\tTrain Loss: 0.770 | Train PPL:   2.161\n",
            "Epoch: 69 | Time: 0m 0s\n",
            "\tTrain Loss: 0.758 | Train PPL:   2.134\n",
            "Epoch: 70 | Time: 0m 0s\n",
            "\tTrain Loss: 0.741 | Train PPL:   2.098\n",
            "Epoch: 71 | Time: 0m 0s\n",
            "\tTrain Loss: 0.730 | Train PPL:   2.076\n",
            "Epoch: 72 | Time: 0m 0s\n",
            "\tTrain Loss: 0.713 | Train PPL:   2.040\n",
            "Epoch: 73 | Time: 0m 0s\n",
            "\tTrain Loss: 0.708 | Train PPL:   2.029\n",
            "Epoch: 74 | Time: 0m 0s\n",
            "\tTrain Loss: 0.680 | Train PPL:   1.973\n",
            "Epoch: 75 | Time: 0m 0s\n",
            "\tTrain Loss: 0.667 | Train PPL:   1.949\n",
            "Epoch: 76 | Time: 0m 0s\n",
            "\tTrain Loss: 0.655 | Train PPL:   1.926\n",
            "Epoch: 77 | Time: 0m 0s\n",
            "\tTrain Loss: 0.643 | Train PPL:   1.901\n",
            "Epoch: 78 | Time: 0m 0s\n",
            "\tTrain Loss: 0.631 | Train PPL:   1.879\n",
            "Epoch: 79 | Time: 0m 0s\n",
            "\tTrain Loss: 0.614 | Train PPL:   1.848\n",
            "Epoch: 80 | Time: 0m 0s\n",
            "\tTrain Loss: 0.616 | Train PPL:   1.852\n",
            "Epoch: 81 | Time: 0m 0s\n",
            "\tTrain Loss: 0.598 | Train PPL:   1.819\n",
            "Epoch: 82 | Time: 0m 0s\n",
            "\tTrain Loss: 0.592 | Train PPL:   1.808\n",
            "Epoch: 83 | Time: 0m 0s\n",
            "\tTrain Loss: 0.578 | Train PPL:   1.782\n",
            "Epoch: 84 | Time: 0m 0s\n",
            "\tTrain Loss: 0.577 | Train PPL:   1.780\n",
            "Epoch: 85 | Time: 0m 0s\n",
            "\tTrain Loss: 0.576 | Train PPL:   1.779\n",
            "Epoch: 86 | Time: 0m 0s\n",
            "\tTrain Loss: 0.567 | Train PPL:   1.764\n",
            "Epoch: 87 | Time: 0m 0s\n",
            "\tTrain Loss: 0.546 | Train PPL:   1.726\n",
            "Epoch: 88 | Time: 0m 0s\n",
            "\tTrain Loss: 0.531 | Train PPL:   1.701\n",
            "Epoch: 89 | Time: 0m 0s\n",
            "\tTrain Loss: 0.533 | Train PPL:   1.704\n",
            "Epoch: 90 | Time: 0m 0s\n",
            "\tTrain Loss: 0.520 | Train PPL:   1.682\n",
            "Epoch: 91 | Time: 0m 0s\n",
            "\tTrain Loss: 0.503 | Train PPL:   1.654\n",
            "Epoch: 92 | Time: 0m 0s\n",
            "\tTrain Loss: 0.502 | Train PPL:   1.651\n",
            "Epoch: 93 | Time: 0m 0s\n",
            "\tTrain Loss: 0.500 | Train PPL:   1.649\n",
            "Epoch: 94 | Time: 0m 0s\n",
            "\tTrain Loss: 0.494 | Train PPL:   1.639\n",
            "Epoch: 95 | Time: 0m 0s\n",
            "\tTrain Loss: 0.485 | Train PPL:   1.624\n",
            "Epoch: 96 | Time: 0m 0s\n",
            "\tTrain Loss: 0.473 | Train PPL:   1.604\n",
            "Epoch: 97 | Time: 0m 0s\n",
            "\tTrain Loss: 0.471 | Train PPL:   1.601\n",
            "Epoch: 98 | Time: 0m 0s\n",
            "\tTrain Loss: 0.470 | Train PPL:   1.600\n",
            "Epoch: 99 | Time: 0m 0s\n",
            "\tTrain Loss: 0.452 | Train PPL:   1.571\n",
            "Epoch: 100 | Time: 0m 0s\n",
            "\tTrain Loss: 0.456 | Train PPL:   1.577\n"
          ],
          "name": "stdout"
        }
      ]
    },
    {
      "cell_type": "code",
      "metadata": {
        "id": "gLLc2KkPIGki"
      },
      "source": [
        "def translate_sentence(sentence, src_field, trg_field, model, device, max_len = 50):\n",
        "    \n",
        "    model.eval()\n",
        "        \n",
        "    if isinstance(sentence, str):\n",
        "        nlp = spacy.load('en')\n",
        "        tokens = [token.text.lower() for token in nlp(sentence)]\n",
        "    else:\n",
        "        tokens = [token.lower() for token in sentence]\n",
        "\n",
        "    tokens = ['<start>'] + tokens + ['<end>']\n",
        "        \n",
        "    print(tokens)\n",
        "    src_indexes = [src_field[token] for token in tokens]\n",
        "\n",
        "    src_tensor = torch.LongTensor(src_indexes).unsqueeze(0).to(device)\n",
        "    \n",
        "    src_mask = model.make_src_mask(src_tensor)\n",
        "    \n",
        "    with torch.no_grad():\n",
        "        enc_src = model.encoder(src_tensor, src_mask)\n",
        "\n",
        "    trg_indexes = trg_field['<start>']\n",
        "    print(trg_indexes)\n",
        "\n",
        "    for i in range(max_len):\n",
        "\n",
        "        trg_tensor = torch.LongTensor(trg_indexes).unsqueeze(0).to(device)\n",
        "\n",
        "        trg_mask = model.make_trg_mask(trg_tensor)\n",
        "        \n",
        "        with torch.no_grad():\n",
        "            output, attention = model.decoder(trg_tensor, enc_src, trg_mask, src_mask)\n",
        "        \n",
        "        pred_token = output.argmax(2)[:,-1].item()\n",
        "        \n",
        "        trg_indexes.append(pred_token)\n",
        "\n",
        "        if pred_token == trg_field['<end>']:\n",
        "            break\n",
        "    \n",
        "    trg_tokens = [trg_field[i] for i in trg_indexes]\n",
        "    \n",
        "    return trg_tokens[1:], attention"
      ],
      "execution_count": 66,
      "outputs": []
    },
    {
      "cell_type": "code",
      "metadata": {
        "id": "5hhcqDJnzIAi"
      },
      "source": [
        "#word_map"
      ],
      "execution_count": 67,
      "outputs": []
    },
    {
      "cell_type": "code",
      "metadata": {
        "id": "6Tl6RyXzyRdw"
      },
      "source": [
        "\n"
      ],
      "execution_count": null,
      "outputs": []
    },
    {
      "cell_type": "code",
      "metadata": {
        "id": "ZHyHkZsozzXK"
      },
      "source": [
        ""
      ],
      "execution_count": null,
      "outputs": []
    },
    {
      "cell_type": "code",
      "metadata": {
        "id": "NhU3h8BK0e76"
      },
      "source": [
        ""
      ],
      "execution_count": null,
      "outputs": []
    }
  ]
}